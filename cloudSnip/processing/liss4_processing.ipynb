{
  "cells": [
    {
      "cell_type": "markdown",
      "id": "9a244534-c0a1-41b4-9f73-2087eb72b030",
      "metadata": {
        "id": "9a244534-c0a1-41b4-9f73-2087eb72b030"
      },
      "source": [
        "## LISS4 Image Processing using XArray and Dask\n",
        "\n",
        "This notebook shows how to pre-process scenes from the LISS4 sensor aboard ResourceSat2/2A.\n",
        "\n",
        "Refere to blog [this article](https://spatialthoughts.com/2023/12/25/liss4-processing-xarray/) for a detailed guide.\n"
      ]
    },
    {
      "cell_type": "code",
      "execution_count": 1,
      "id": "8b7eb4a0",
      "metadata": {},
      "outputs": [
        {
          "name": "stdout",
          "output_type": "stream",
          "text": [
            "/home/nischal/projects/cloudSnip/cloudSnip/processing/.venv/bin/python\n"
          ]
        }
      ],
      "source": [
        "!which python"
      ]
    },
    {
      "cell_type": "code",
      "execution_count": 2,
      "id": "fe6c71dd-37df-47af-9019-d012cc9b5e59",
      "metadata": {
        "id": "fe6c71dd-37df-47af-9019-d012cc9b5e59",
        "tags": []
      },
      "outputs": [],
      "source": [
        "import datetime\n",
        "import ephem\n",
        "import math\n",
        "import os\n",
        "import rioxarray as rxr\n",
        "import xarray as xr\n",
        "import zipfile"
      ]
    },
    {
      "cell_type": "code",
      "execution_count": 3,
      "id": "d20af8cb",
      "metadata": {},
      "outputs": [],
      "source": [
        "from dask.distributed import Client, progress\n",
        "client = Client()  # set up local cluster on the machine"
      ]
    },
    {
      "cell_type": "code",
      "execution_count": 4,
      "id": "TDrdr3Ae0Nue",
      "metadata": {
        "id": "TDrdr3Ae0Nue"
      },
      "outputs": [],
      "source": [
        "from pathlib import Path\n",
        "\n",
        "\n",
        "def process_liss4_data(liss4_dir_zip, output_dir):\n",
        "  for liss4_zip in liss4_dir_zip.glob(\"*.zip\"):\n",
        "    with zipfile.ZipFile(liss4_zip) as zf:\n",
        "      # The LISS4 zip files contain a folder with all the data\n",
        "      # Get the folder name\n",
        "      foldername = [info.filename for info in zf.infolist() if info.is_dir()][0]\n",
        "      # Extract all the data\n",
        "      zf.extractall()\n",
        "      \n",
        "    metadata_filename = 'BAND_META.txt'\n",
        "    metadata_filepath = os.path.join(foldername, metadata_filename)\n",
        "\n",
        "    metadata = {}\n",
        "    with open(metadata_filepath) as f:\n",
        "      for line in f:\n",
        "        key, value = line.split('=')\n",
        "        metadata[key.strip()] = value.strip()\n",
        "\n",
        "    scene_id = metadata['OTSProductID']\n",
        "\n",
        "    b2_path = os.path.join(foldername, 'BAND2.tif')\n",
        "    b3_path = os.path.join(foldername, 'BAND3.tif')\n",
        "    b4_path = os.path.join(foldername, 'BAND4.tif')\n",
        "\n",
        "    b2_ds = rxr.open_rasterio(b2_path, chunks=True)\n",
        "    b3_ds = rxr.open_rasterio(b3_path, chunks=True)\n",
        "    b4_ds = rxr.open_rasterio(b4_path, chunks=True)\n",
        "\n",
        "    scene = xr.concat([b2_ds, b3_ds, b4_ds], dim='band').assign_coords(\n",
        "        band=['BAND2', 'BAND3', 'BAND4'])\n",
        "\n",
        "    scene = scene.where(scene != 0)\n",
        "    scene.name = scene_id\n",
        "    acq_date_str = metadata['DateOfPass']\n",
        "    # Date is in the format 04-MAR-2023\n",
        "    acq_date = datetime.datetime.strptime(acq_date_str, '%d-%b-%Y')\n",
        "\n",
        "    sun_elevation_angle = metadata['SunElevationAtCenter']\n",
        "    sun_zenith_angle = 90 - float(sun_elevation_angle)\n",
        "\n",
        "    observer = ephem.Observer()\n",
        "    observer.date = acq_date\n",
        "    sun = ephem.Sun()\n",
        "    sun.compute(observer)\n",
        "    d = sun.earth_distance\n",
        "\n",
        "    b2_sr = 53.0\n",
        "    b3_sr = 47.0\n",
        "    b4_sr = 31.5\n",
        "\n",
        "    b2_esun = 181.89\n",
        "    b3_esun = 156.96\n",
        "    b4_esun = 110.48\n",
        "\n",
        "    pi = math.pi\n",
        "    sun_zenith_angle_rad = math.radians(sun_zenith_angle)\n",
        "\n",
        "    b2_dn = scene.sel(band='BAND2')\n",
        "    b3_dn = scene.sel(band='BAND3')\n",
        "    b4_dn = scene.sel(band='BAND4')\n",
        "\n",
        "    b2_rad = b2_dn*b2_sr/1024\n",
        "    b3_rad = b3_dn*b3_sr/1024\n",
        "    b4_rad = b4_dn*b4_sr/1024\n",
        "\n",
        "    b2_ref = (pi*b2_rad*d*d)/(b2_esun*math.cos(sun_zenith_angle_rad))\n",
        "    b3_ref = (pi*b3_rad*d*d)/(b3_esun*math.cos(sun_zenith_angle_rad))\n",
        "    b4_ref = (pi*b4_rad*d*d)/(b4_esun*math.cos(sun_zenith_angle_rad))\n",
        "\n",
        "    reflectance_bands = [b2_ref, b3_ref, b4_ref]\n",
        "    scene_ref = xr.concat(reflectance_bands, dim='band').assign_coords(\n",
        "        band=['BAND2', 'BAND3', 'BAND4']).chunk('auto')\n",
        "    scene_ref.name = scene_id\n",
        "\n",
        "    output_ds = scene_ref.to_dataset('band')\n",
        "\n",
        "\n",
        "    output_file = output_dir / f'{scene_id}.tif'\n",
        "\n",
        "    output_options = {\n",
        "        'driver': 'COG',\n",
        "        'compress': 'deflate',\n",
        "        'num_threads': 'all_cpus',\n",
        "        'windowed': False # set True if you run out of RAM\n",
        "    }\n",
        "\n",
        "    output_ds[['BAND2', 'BAND3', 'BAND4']].rio.to_raster(\n",
        "        output_file, **output_options)\n"
      ]
    },
    {
      "cell_type": "code",
      "execution_count": 5,
      "id": "579fbb95",
      "metadata": {},
      "outputs": [
        {
          "name": "stderr",
          "output_type": "stream",
          "text": [
            "2025-07-06 14:15:47,041 - distributed.worker.memory - WARNING - Worker is at 86% memory usage. Pausing worker.  Process memory: 6.77 GiB -- Worker memory limit: 7.84 GiB\n",
            "2025-07-06 14:15:48,144 - distributed.worker.memory - WARNING - Worker is at 64% memory usage. Resuming worker. Process memory: 5.05 GiB -- Worker memory limit: 7.84 GiB\n",
            "2025-07-06 14:16:29,219 - distributed.worker.memory - WARNING - Worker is at 88% memory usage. Pausing worker.  Process memory: 6.93 GiB -- Worker memory limit: 7.84 GiB\n",
            "2025-07-06 14:16:30,224 - distributed.worker.memory - WARNING - Worker is at 68% memory usage. Resuming worker. Process memory: 5.35 GiB -- Worker memory limit: 7.84 GiB\n"
          ]
        }
      ],
      "source": [
        "liss4_dir_zip = Path('/home/nischal/projects/cloudSnip/data/test_unprocessed/test_dir/TestData-Cloud-Shadow')\n",
        "output_dir = Path('/home/nischal/projects/cloudSnip/data/unprocessed_data/val/img/')\n",
        "\n",
        "process_liss4_data(liss4_dir_zip, output_dir)"
      ]
    },
    {
      "cell_type": "code",
      "execution_count": 4,
      "id": "0ckP_6VIT4Li",
      "metadata": {
        "id": "0ckP_6VIT4Li",
        "tags": []
      },
      "outputs": [],
      "source": [
        "# if not liss4_zip:\n",
        "#   liss4_zip = 'RAF20FEB2023032197010000064SSANSTUC00GTDC.zip'\n",
        "#   data_url = 'https://storage.googleapis.com/spatialthoughts-public-data/liss4/'\n",
        "#   url = data_url + liss4_zip\n",
        "#   filename = os.path.basename(url)\n",
        "#   if not os.path.exists(filename):\n",
        "#       from urllib.request import urlretrieve\n",
        "#       local, _ = urlretrieve(url, filename)\n",
        "#       print('Downloaded demo scene: ' + local)"
      ]
    }
  ],
  "metadata": {
    "colab": {
      "provenance": []
    },
    "kernelspec": {
      "display_name": ".venv",
      "language": "python",
      "name": "python3"
    },
    "language_info": {
      "codemirror_mode": {
        "name": "ipython",
        "version": 3
      },
      "file_extension": ".py",
      "mimetype": "text/x-python",
      "name": "python",
      "nbconvert_exporter": "python",
      "pygments_lexer": "ipython3",
      "version": "3.12.11"
    }
  },
  "nbformat": 4,
  "nbformat_minor": 5
}
